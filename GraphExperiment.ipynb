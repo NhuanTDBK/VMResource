{
 "cells": [
  {
   "cell_type": "code",
   "execution_count": 1,
   "metadata": {},
   "outputs": [
    {
     "name": "stdout",
     "output_type": "stream",
     "text": [
      "Initialization\n"
     ]
    }
   ],
   "source": [
    "import matplotlib.pyplot as plt\n",
    "from __init__ import *\n",
    "import skflow\n",
    "from sklearn import preprocessing\n",
    "from SlidingWindowUtil import *\n",
    "from lasagne.nonlinearities import rectify\n",
    "from GraphUtil import *\n",
    "from MetricFeeder import *\n",
    "from NeuralFlow import NeuralFlowRegressor\n",
    "optimizer = NeuralFlowRegressor()"
   ]
  },
  {
   "cell_type": "code",
   "execution_count": 3,
   "metadata": {},
   "outputs": [
    {
     "name": "stdout",
     "output_type": "stream",
     "text": [
      "Getting data\n"
     ]
    }
   ],
   "source": [
    "n_windows = 4\n",
    "n_hidden = 15\n",
    "range_training = (-1,28919)\n",
    "range_test = (28919,-1)\n",
    "metric_types = [\"cpu_util\",\"disk_write_rate\"]\n",
    "dataFeeder = MetricFeeder(skip_lists=5)\n",
    "\n",
    "print \"Getting data\"\n",
    "X_train,y_train,X_test,y_test = dataFeeder.split_train_and_test(metric_types,n_windows)"
   ]
  },
  {
   "cell_type": "code",
   "execution_count": 7,
   "metadata": {},
   "outputs": [],
   "source": [
    "# fit_param = {\n",
    "#     \"neural_shape\":[2*n_windows,15,2]\n",
    "# }\n",
    "# optimizer.fit(X_train,y_train,**fit_param)"
   ]
  },
  {
   "cell_type": "code",
   "execution_count": 10,
   "metadata": {},
   "outputs": [
    {
     "name": "stdout",
     "output_type": "stream",
     "text": [
      "0.0187097614726\n"
     ]
    }
   ],
   "source": [
    "print optimizer.score(X_test,y_test)"
   ]
  },
  {
   "cell_type": "code",
   "execution_count": null,
   "metadata": {},
   "outputs": [],
   "source": [
    ""
   ]
  }
 ],
 "metadata": {
  "kernelspec": {
   "display_name": "Python 2",
   "language": "python",
   "name": "python2"
  },
  "language_info": {
   "codemirror_mode": {
    "name": "ipython",
    "version": 2.0
   },
   "file_extension": ".py",
   "mimetype": "text/x-python",
   "name": "python",
   "nbconvert_exporter": "python",
   "pygments_lexer": "ipython2",
   "version": "2.7.10"
  }
 },
 "nbformat": 4,
 "nbformat_minor": 0
}