{
 "cells": [
  {
   "cell_type": "code",
   "execution_count": 25,
   "metadata": {
    "collapsed": true
   },
   "outputs": [],
   "source": [
    "import matplotlib.pyplot as plt\n",
    "from __init__ import *\n",
    "import skflow\n",
    "from sklearn import preprocessing\n",
    "from SlidingWindowUtil import *\n",
    "from lasagne.nonlinearities import rectify\n",
    "\n",
    "result = pd.read_json(\"result_exp1\")\n",
    "neural_network = skflow.TensorFlowEstimator.restore(\"score_0.000155509367764/\")\n",
    "\n",
    "\n",
    "vm_name = \" 17d13bbf-a55d-4f8e-ad9e-c739e12db98d \"\n",
    "total_cpu_util = pd.read_json(\"sample_cpu_util.json\")[\"Volume\"]\n",
    "total_disk_write = pd.read_json(\"sample_disk_write.json\")[\"Volume\"]\n",
    "n_range = total_cpu_util.shape[0]*70/100\n",
    "n_size = 5\n",
    "\n",
    "scaler  = preprocessing.MinMaxScaler(feature_range=(0,1))\n",
    "disk_write_test_scaler = scaler.fit_transform(total_disk_write[n_range:].reshape(-1,1))\n",
    "cpu_test_scaler = scaler.fit_transform(total_cpu_util[n_range:].reshape(-1,1))\n",
    "\n",
    "disk_write_X = list(SlidingWindow(disk_write_test_scaler,n_size))\n",
    "cpu_util_X =  list(SlidingWindow(cpu_test_scaler,n_size))\n",
    "disk_write_y = disk_write_test_scaler[n_size-1:]\n",
    "cpu_util_y = cpu_test_scaler[n_size-1:]\n",
    "X_test = np.asarray([np.array(t,dtype=np.float32).flatten().tolist() for t in zip(cpu_util_X,disk_write_X)])\n",
    "y_test = np.asarray([np.array(t).flatten().tolist() for t in zip(cpu_util_y,disk_write_y)])"
   ]
  },
  {
   "cell_type": "code",
   "execution_count": 5,
   "metadata": {
    "collapsed": true
   },
   "outputs": [],
   "source": [
    "y_pred = neural_network.predict(X_test)"
   ]
  },
  {
   "cell_type": "code",
   "execution_count": 31,
   "metadata": {
    "collapsed": false
   },
   "outputs": [],
   "source": [
    "y_pred_df = pd.DataFrame(y_pred,columns=[\"CPU\",\"Disk_write\"])"
   ]
  },
  {
   "cell_type": "code",
   "execution_count": 41,
   "metadata": {
    "collapsed": true
   },
   "outputs": [],
   "source": [
    "y_test_df = pd.DataFrame(y_test,columns=[\"CPU\",\"Disk_write\"])"
   ]
  },
  {
   "cell_type": "code",
   "execution_count": 47,
   "metadata": {
    "collapsed": true
   },
   "outputs": [],
   "source": [
    "class Demo:\n",
    "    def __init__(self,**kwargs):\n",
    "        print \"init\"\n",
    "    def fit(self,**kwargs):\n",
    "        for k,v in kwargs.iteritems():\n",
    "            print k,v\n",
    "            self.__setattr__(k, v)"
   ]
  },
  {
   "cell_type": "code",
   "execution_count": 48,
   "metadata": {
    "collapsed": false
   },
   "outputs": [
    {
     "name": "stdout",
     "output_type": "stream",
     "text": [
      "init\n"
     ]
    }
   ],
   "source": [
    "d = Demo(classs=1,demo=2)"
   ]
  },
  {
   "cell_type": "code",
   "execution_count": 49,
   "metadata": {
    "collapsed": false
   },
   "outputs": [
    {
     "name": "stdout",
     "output_type": "stream",
     "text": [
      "demo 2\n"
     ]
    },
    {
     "ename": "AttributeError",
     "evalue": "Demo instance has no attribute '__setattr__'",
     "output_type": "error",
     "traceback": [
      "\u001b[1;31m---------------------------------------------------------------------------\u001b[0m",
      "\u001b[1;31mAttributeError\u001b[0m                            Traceback (most recent call last)",
      "\u001b[1;32m<ipython-input-49-501b5639dedf>\u001b[0m in \u001b[0;36m<module>\u001b[1;34m()\u001b[0m\n\u001b[1;32m----> 1\u001b[1;33m \u001b[0md\u001b[0m\u001b[1;33m.\u001b[0m\u001b[0mfit\u001b[0m\u001b[1;33m(\u001b[0m\u001b[0mclasss\u001b[0m\u001b[1;33m=\u001b[0m\u001b[1;36m1\u001b[0m\u001b[1;33m,\u001b[0m\u001b[0mdemo\u001b[0m\u001b[1;33m=\u001b[0m\u001b[1;36m2\u001b[0m\u001b[1;33m)\u001b[0m\u001b[1;33m\u001b[0m\u001b[0m\n\u001b[0m",
      "\u001b[1;32m<ipython-input-47-b7988b9fc4d2>\u001b[0m in \u001b[0;36mfit\u001b[1;34m(self, **kwargs)\u001b[0m\n\u001b[0;32m      5\u001b[0m         \u001b[1;32mfor\u001b[0m \u001b[0mk\u001b[0m\u001b[1;33m,\u001b[0m\u001b[0mv\u001b[0m \u001b[1;32min\u001b[0m \u001b[0mkwargs\u001b[0m\u001b[1;33m.\u001b[0m\u001b[0miteritems\u001b[0m\u001b[1;33m(\u001b[0m\u001b[1;33m)\u001b[0m\u001b[1;33m:\u001b[0m\u001b[1;33m\u001b[0m\u001b[0m\n\u001b[0;32m      6\u001b[0m             \u001b[1;32mprint\u001b[0m \u001b[0mk\u001b[0m\u001b[1;33m,\u001b[0m\u001b[0mv\u001b[0m\u001b[1;33m\u001b[0m\u001b[0m\n\u001b[1;32m----> 7\u001b[1;33m             \u001b[0mself\u001b[0m\u001b[1;33m.\u001b[0m\u001b[0m__setattr__\u001b[0m\u001b[1;33m(\u001b[0m\u001b[0mk\u001b[0m\u001b[1;33m,\u001b[0m\u001b[0mv\u001b[0m\u001b[1;33m)\u001b[0m\u001b[1;33m\u001b[0m\u001b[0m\n\u001b[0m",
      "\u001b[1;31mAttributeError\u001b[0m: Demo instance has no attribute '__setattr__'"
     ]
    }
   ],
   "source": [
    "d.fit(classs=1,demo=2)"
   ]
  }
 ],
 "metadata": {
  "kernelspec": {
   "display_name": "Python 2",
   "language": "python",
   "name": "python2"
  },
  "language_info": {
   "codemirror_mode": {
    "name": "ipython",
    "version": 2
   },
   "file_extension": ".py",
   "mimetype": "text/x-python",
   "name": "python",
   "nbconvert_exporter": "python",
   "pygments_lexer": "ipython2",
   "version": "2.7.10"
  }
 },
 "nbformat": 4,
 "nbformat_minor": 0
}
