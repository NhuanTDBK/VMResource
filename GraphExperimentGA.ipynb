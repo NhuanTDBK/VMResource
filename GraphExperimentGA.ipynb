{
 "cells": [
  {
   "cell_type": "code",
   "execution_count": 5,
   "metadata": {
    "collapsed": false
   },
   "outputs": [
    {
     "name": "stdout",
     "output_type": "stream",
     "text": [
      "Getting data\n",
      "Initialization\n",
      "Initilization\n",
      "Gen. 0 (0.00%): Max/Min/Avg Fitness(Raw) [0.47(0.60)/0.32(0.20)/0.39(0.39)]\n",
      "Gen. 10 (22.22%): Max/Min/Avg Fitness(Raw) [0.68(0.90)/0.49(0.33)/0.57(0.57)]\n",
      "Gen. 20 (44.44%): Max/Min/Avg Fitness(Raw) [0.78(1.21)/0.56(0.26)/0.65(0.65)]\n",
      "Gen. 30 (66.67%): Max/Min/Avg Fitness(Raw) [0.95(1.36)/0.65(0.29)/0.79(0.79)]\n",
      "Gen. 40 (88.89%): Max/Min/Avg Fitness(Raw) [1.06(1.55)/0.76(0.41)/0.88(0.88)]\n",
      "Gen. 45 (100.00%): Max/Min/Avg Fitness(Raw) [1.09(1.64)/0.80(0.48)/0.91(0.91)]\n",
      "Total time elapsed: 8.748 seconds.\n",
      "Step #100, epoch #1, avg. train loss: 0.05763\n",
      "Step #200, epoch #3, avg. train loss: 0.00341\n",
      "Step #300, epoch #5, avg. train loss: 0.00075\n",
      "Step #400, epoch #7, avg. train loss: 0.00031\n",
      "Step #500, epoch #9, avg. train loss: 0.00013\n",
      "Step #600, epoch #11, avg. train loss: 0.00028\n",
      "Step #700, epoch #13, avg. train loss: 0.00010\n",
      "Step #800, epoch #1, avg. train loss: 0.00010\n",
      "Step #900, epoch #3, avg. train loss: 0.00018\n",
      "Step #1000, epoch #5, avg. train loss: 0.00016"
     ]
    },
    {
     "name": "stderr",
     "output_type": "stream",
     "text": [
      "Stopping. Best step:\n",
      " step 477 with loss 5.26671146872e-06\n",
      "Stopping. Best step:\n",
      " step 833 with loss 4.65358061774e-06\n"
     ]
    },
    {
     "name": "stdout",
     "output_type": "stream",
     "text": [
      "\n",
      "Step #16, avg. train loss: 0.00009\n",
      "Step #1200, epoch #2, avg. train loss: 0.00005\n",
      "Step #1300, epoch #4, avg. train loss: 0.00012\n",
      "Step #1400, epoch #5, avg. train loss: 0.00014\n",
      "Step #1500, epoch #1, avg. train loss: 0.00037\n",
      "Step #1600, epoch #3, avg. train loss: 0.00013\n",
      "Step #1700, epoch #5, avg. train loss: 0.00034\n",
      "Step #1800, epoch #6, avg. train loss: 0.00021"
     ]
    },
    {
     "name": "stderr",
     "output_type": "stream",
     "text": [
      "Stopping. Best step:\n",
      " step 1185 with loss 3.74602427655e-06\n",
      "Stopping. Best step:\n",
      " step 1604 with loss 7.54951815907e-06\n"
     ]
    },
    {
     "name": "stdout",
     "output_type": "stream",
     "text": [
      "\n",
      "Step #45, avg. train loss: 0.00050\n",
      "Step #2000, epoch #2, avg. train loss: 0.00044\n",
      "Step #2100, epoch #4, avg. train loss: 0.00011\n",
      "Step #2200, epoch #6, avg. train loss: 0.00017\n",
      "Step #36, avg. train loss: 0.00052\n",
      "Step #2400, epoch #2, avg. train loss: 0.00018\n",
      "Step #2500, epoch #4, avg. train loss: 0.00006\n",
      "Step #2600, epoch #6, avg. train loss: 0.00012\n",
      "Step #2700, epoch #8, avg. train loss: 0.00024\n",
      "Step #2800, epoch #10, avg. train loss: 0.00031"
     ]
    },
    {
     "name": "stderr",
     "output_type": "stream",
     "text": [
      "Stopping. Best step:\n",
      " step 2013 with loss 8.88752492756e-06\n",
      "Stopping. Best step:\n",
      " step 2614 with loss 3.44137993125e-06\n"
     ]
    },
    {
     "name": "stdout",
     "output_type": "stream",
     "text": [
      "\n",
      "Step #35, avg. train loss: 0.00007\n",
      "Step #3000, epoch #2, avg. train loss: 0.00008\n",
      "Step #3100, epoch #4, avg. train loss: 0.00004\n",
      "Step #3200, epoch #6, avg. train loss: 0.00008\n",
      "Step #19, avg. train loss: 0.00012\n",
      "Step #3400, epoch #2, avg. train loss: 0.00009\n",
      "Step #3500, epoch #4, avg. train loss: 0.00010\n",
      "Step #3600, epoch #6, avg. train loss: 0.00006\n",
      "Step #3700, epoch #7, avg. train loss: 0.00004\n",
      "Step #3800, epoch #9, avg. train loss: 0.00006"
     ]
    },
    {
     "name": "stderr",
     "output_type": "stream",
     "text": [
      "Stopping. Best step:\n",
      " step 3030 with loss 4.23572191721e-06\n",
      "Stopping. Best step:\n",
      " step 3631 with loss 1.00469776498e-06\n"
     ]
    },
    {
     "name": "stdout",
     "output_type": "stream",
     "text": [
      "\n",
      "Step #18, avg. train loss: 0.00009\n",
      "Step #4000, epoch #2, avg. train loss: 0.00010\n",
      "Step #4100, epoch #4, avg. train loss: 0.00006\n",
      "Step #4200, epoch #6, avg. train loss: 0.00003\n",
      "Step #4300, epoch #7, avg. train loss: 0.00004\n",
      "Step #4400, epoch #9, avg. train loss: 0.00034\n",
      "Step #27, avg. train loss: 0.00057\n",
      "Step #4600, epoch #2, avg. train loss: 0.00050\n",
      "Step #4700, epoch #4, avg. train loss: 0.00018\n",
      "Step #4800, epoch #6, avg. train loss: 0.00012\n",
      "Step #4900, epoch #8, avg. train loss: 0.00008\n",
      "Step #5000, epoch #9, avg. train loss: 0.00008\n",
      "Step #5100, epoch #11, avg. train loss: 0.00010\n",
      "Step #5200, epoch #13, avg. train loss: 0.00009"
     ]
    },
    {
     "name": "stderr",
     "output_type": "stream",
     "text": [
      "Stopping. Best step:\n",
      " step 4222 with loss 3.22627874993e-06\n",
      "Stopping. Best step:\n",
      " step 5044 with loss 3.11064627567e-06\n"
     ]
    },
    {
     "name": "stdout",
     "output_type": "stream",
     "text": [
      "\n"
     ]
    }
   ],
   "source": [
    "from GraphUtil import *\n",
    "from MetricFeeder import *\n",
    "from GAEstimator import GAEstimator\n",
    "from initializer import *\n",
    "from NeuralFlow import NeuralFlowRegressor\n",
    "from OptimizerNNEstimator import OptimizerNNEstimator\n",
    "from sklearn.metrics import mean_squared_error\n",
    "from numpy import savez\n",
    "\n",
    "n_windows = 4\n",
    "n_hidden = 15\n",
    "\n",
    "metric_types = [\"cpu_util\",\"disk_write_rate\"]\n",
    "dataFeeder = MetricFeeder(skip_lists=5)\n",
    "\n",
    "print \"Getting data\"\n",
    "X_train,y_train,X_test,y_test = dataFeeder.split_train_and_test(n_sliding_window=n_windows)\n",
    "# savez(\"train_test\",X_train=X_train,y_train=y_train,X_test=X_test,y_test=y_test)\n",
    "neural_shape = [len(dataFeeder.metric_type)*n_windows,n_hidden,len(dataFeeder.metric_type)]\n",
    "estimator = GAEstimator(cross_rate=0.65,mutation_rate=0.04,pop_size=45)\n",
    "archive_solution = construct_solution(estimator.number_of_solutions,neural_shape,uniform_init=False)\n",
    "fit_param = {'neural_shape':neural_shape,\"archive\":archive_solution}\n",
    "neuralNet = NeuralFlowRegressor()\n",
    "optimizer = OptimizerNNEstimator(estimator,neuralNet)\n",
    "optimizer.fit(X_train,y_train,**fit_param)\n",
    "score = optimizer.score(X_test,y_test)\n",
    "y_pred = optimizer.predict(X_test)\n",
    "# plot_metric_figure(y_pred=y_pred,y_test=y_test, metric_type=dataFeeder.metric_type,title=\"GANN\")\n"
   ]
  },
  {
   "cell_type": "code",
   "execution_count": 9,
   "metadata": {
    "collapsed": false
   },
   "outputs": [
    {
     "name": "stdout",
     "output_type": "stream",
     "text": [
      "0.00645401067519\n"
     ]
    }
   ],
   "source": [
    "print mean_squared_error(y_pred,y_test)\n",
    "plot_metric_figure(y_pred=y_pred,y_test=y_test, metric_type=dataFeeder.metric_type,title=\"GANN\")"
   ]
  },
  {
   "cell_type": "code",
   "execution_count": null,
   "metadata": {
    "collapsed": true
   },
   "outputs": [],
   "source": []
  }
 ],
 "metadata": {
  "kernelspec": {
   "display_name": "Python 2",
   "language": "python",
   "name": "python2"
  },
  "language_info": {
   "codemirror_mode": {
    "name": "ipython",
    "version": 2
   },
   "file_extension": ".py",
   "mimetype": "text/x-python",
   "name": "python",
   "nbconvert_exporter": "python",
   "pygments_lexer": "ipython2",
   "version": "2.7.10"
  }
 },
 "nbformat": 4,
 "nbformat_minor": 0
}
