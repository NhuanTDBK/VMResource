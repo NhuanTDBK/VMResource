{
 "cells": [
  {
   "cell_type": "code",
   "execution_count": 9,
   "metadata": {
    "collapsed": false
   },
   "outputs": [
    {
     "name": "stdout",
     "output_type": "stream",
     "text": [
      "Getting data\n",
      "Initialization\n",
      "Initilization\n",
      "Step #100, epoch #1, avg. train loss: 0.05668\n",
      "Step #200, epoch #3, avg. train loss: 0.00252\n",
      "Step #300, epoch #5, avg. train loss: 0.00078\n",
      "Step #400, epoch #7, avg. train loss: 0.00054\n",
      "Step #500, epoch #9, avg. train loss: 0.00032\n",
      "Step #600, epoch #11, avg. train loss: 0.00023\n",
      "Step #700, epoch #13, avg. train loss: 0.00011\n",
      "Step #800, epoch #15, avg. train loss: 0.00011\n",
      "Step #900, epoch #16, avg. train loss: 0.00019\n",
      "Step #1000, epoch #18, avg. train loss: 0.00012\n",
      "Step #1100, epoch #1, avg. train loss: 0.00019\n",
      "Step #1200, epoch #3, avg. train loss: 0.00030\n",
      "Step #1300, epoch #5, avg. train loss: 0.00011\n",
      "Step #1400, epoch #7, avg. train loss: 0.00012\n",
      "Step #1500, epoch #9, avg. train loss: 0.00016\n",
      "Step #1600, epoch #11, avg. train loss: 0.00013\n",
      "Step #1700, epoch #13, avg. train loss: 0.00018\n",
      "Step #1800, epoch #15, avg. train loss: 0.00016\n",
      "Step #1900, epoch #1, avg. train loss: 0.00031\n",
      "Step #2000, epoch #3, avg. train loss: 0.00016\n",
      "Step #2100, epoch #5, avg. train loss: 0.00012\n",
      "Step #2200, epoch #7, avg. train loss: 0.00023"
     ]
    },
    {
     "name": "stderr",
     "output_type": "stream",
     "text": [
      "Stopping. Best step:\n",
      " step 1557 with loss 8.79426443134e-06\n",
      "Stopping. Best step:\n",
      " step 1966 with loss 8.00622001407e-06\n"
     ]
    },
    {
     "name": "stdout",
     "output_type": "stream",
     "text": [
      "\n",
      "Step #2300, epoch #1, avg. train loss: 0.00006\n",
      "Step #2400, epoch #3, avg. train loss: 0.00007\n",
      "Step #2500, epoch #5, avg. train loss: 0.00008\n",
      "Step #2600, epoch #7, avg. train loss: 0.00016\n",
      "Step #21, avg. train loss: 0.00009\n",
      "Step #2800, epoch #2, avg. train loss: 0.00013\n",
      "Step #2900, epoch #4, avg. train loss: 0.00010\n",
      "Step #3000, epoch #6, avg. train loss: 0.00007\n",
      "Step #3100, epoch #7, avg. train loss: 0.00008\n",
      "Step #3200, epoch #9, avg. train loss: 0.00014"
     ]
    },
    {
     "name": "stderr",
     "output_type": "stream",
     "text": [
      "Stopping. Best step:\n",
      " step 2428 with loss 3.48341586687e-06\n",
      "Stopping. Best step:\n",
      " step 2962 with loss 6.2880758378e-06\n"
     ]
    },
    {
     "name": "stdout",
     "output_type": "stream",
     "text": [
      "\n",
      "Step #3300, epoch #1, avg. train loss: 0.00010\n",
      "Step #3400, epoch #3, avg. train loss: 0.00006\n",
      "Step #3500, epoch #5, avg. train loss: 0.00004\n",
      "Step #3600, epoch #7, avg. train loss: 0.00011\n",
      "Step #3700, epoch #9, avg. train loss: 0.00009\n",
      "Step #3800, epoch #1, avg. train loss: 0.00010\n",
      "Step #3900, epoch #3, avg. train loss: 0.00019"
     ]
    },
    {
     "name": "stderr",
     "output_type": "stream",
     "text": [
      "Stopping. Best step:\n",
      " step 3477 with loss 2.26506676881e-06\n",
      "Stopping. Best step:\n",
      " step 3744 with loss 7.95175219537e-06\n"
     ]
    },
    {
     "name": "stdout",
     "output_type": "stream",
     "text": [
      "\n",
      "Step #5, avg. train loss: 0.00024\n",
      "Step #4100, epoch #2, avg. train loss: 0.00009\n",
      "Step #4200, epoch #3, avg. train loss: 0.00005\n",
      "Step #4300, epoch #5, avg. train loss: 0.00007\n",
      "Step #49, avg. train loss: 0.00013\n",
      "Step #4500, epoch #2, avg. train loss: 0.00140\n",
      "Step #4600, epoch #4, avg. train loss: 0.00029"
     ]
    },
    {
     "name": "stderr",
     "output_type": "stream",
     "text": [
      "Stopping. Best step:\n",
      " step 4100 with loss 5.466219136e-06\n",
      "Stopping. Best step:\n",
      " step 4354 with loss 1.0326897609e-05\n"
     ]
    },
    {
     "name": "stdout",
     "output_type": "stream",
     "text": [
      "\n",
      "Step #4700, epoch #1, avg. train loss: 0.00074\n",
      "Step #4800, epoch #3, avg. train loss: 0.00052\n",
      "Step #4900, epoch #5, avg. train loss: 0.00050\n",
      "Step #5000, epoch #7, avg. train loss: 0.00047\n",
      "Step #5100, epoch #9, avg. train loss: 0.00052\n",
      "0.00629120187055\n"
     ]
    },
    {
     "name": "stderr",
     "output_type": "stream",
     "text": [
      "Stopping. Best step:\n",
      " step 4869 with loss 2.16604144043e-06\n"
     ]
    },
    {
     "ename": "ValueError",
     "evalue": "Cannot feed value of shape (2225, 5) for Tensor u'input:0', which has shape '(?, 20)'",
     "output_type": "error",
     "traceback": [
      "\u001b[1;31m---------------------------------------------------------------------------\u001b[0m",
      "\u001b[1;31mValueError\u001b[0m                                Traceback (most recent call last)",
      "\u001b[1;32m<ipython-input-9-a79c21dfc599>\u001b[0m in \u001b[0;36m<module>\u001b[1;34m()\u001b[0m\n\u001b[0;32m     25\u001b[0m \u001b[1;32mprint\u001b[0m \u001b[0moptimizer\u001b[0m\u001b[1;33m.\u001b[0m\u001b[0mscore\u001b[0m\u001b[1;33m(\u001b[0m\u001b[0mX_test\u001b[0m\u001b[1;33m,\u001b[0m\u001b[0my_test\u001b[0m\u001b[1;33m)\u001b[0m\u001b[1;33m\u001b[0m\u001b[0m\n\u001b[0;32m     26\u001b[0m \u001b[0my_pred\u001b[0m \u001b[1;33m=\u001b[0m \u001b[0moptimizer\u001b[0m\u001b[1;33m.\u001b[0m\u001b[0mpredict\u001b[0m\u001b[1;33m(\u001b[0m\u001b[0mX_test\u001b[0m\u001b[1;33m)\u001b[0m\u001b[1;33m\u001b[0m\u001b[0m\n\u001b[1;32m---> 27\u001b[1;33m \u001b[1;32mprint\u001b[0m \u001b[0moptimizer\u001b[0m\u001b[1;33m.\u001b[0m\u001b[0mscore\u001b[0m\u001b[1;33m(\u001b[0m\u001b[0my_pred\u001b[0m\u001b[1;33m,\u001b[0m\u001b[0my_test\u001b[0m\u001b[1;33m)\u001b[0m\u001b[1;33m\u001b[0m\u001b[0m\n\u001b[0m\u001b[0;32m     28\u001b[0m \u001b[1;31m# plot_metric_figure(y_pred,y_test,dataFeeder.metric_type,title=\"ACONN\")\u001b[0m\u001b[1;33m\u001b[0m\u001b[1;33m\u001b[0m\u001b[0m\n\u001b[0;32m     29\u001b[0m \u001b[1;31m# disk_write_pred = dataFeeder.convert(y_pred[:,1],type=metric_types[1])\u001b[0m\u001b[1;33m\u001b[0m\u001b[1;33m\u001b[0m\u001b[0m\n",
      "\u001b[1;32m/home/nhuan/MyWorking/VMResourcePrediction/OptimizerNNEstimator.pyc\u001b[0m in \u001b[0;36mscore\u001b[1;34m(self, X, y)\u001b[0m\n\u001b[0;32m     14\u001b[0m         \u001b[1;32mreturn\u001b[0m \u001b[0mself\u001b[0m\u001b[1;33m.\u001b[0m\u001b[0mmodel_fn\u001b[0m\u001b[1;33m.\u001b[0m\u001b[0mpredict\u001b[0m\u001b[1;33m(\u001b[0m\u001b[0mX\u001b[0m\u001b[1;33m)\u001b[0m\u001b[1;33m\u001b[0m\u001b[0m\n\u001b[0;32m     15\u001b[0m     \u001b[1;32mdef\u001b[0m \u001b[0mscore\u001b[0m\u001b[1;33m(\u001b[0m\u001b[0mself\u001b[0m\u001b[1;33m,\u001b[0m\u001b[0mX\u001b[0m\u001b[1;33m,\u001b[0m\u001b[0my\u001b[0m\u001b[1;33m)\u001b[0m\u001b[1;33m:\u001b[0m\u001b[1;33m\u001b[0m\u001b[0m\n\u001b[1;32m---> 16\u001b[1;33m         \u001b[1;32mreturn\u001b[0m \u001b[0mself\u001b[0m\u001b[1;33m.\u001b[0m\u001b[0mmodel_fn\u001b[0m\u001b[1;33m.\u001b[0m\u001b[0mscore\u001b[0m\u001b[1;33m(\u001b[0m\u001b[0mX\u001b[0m\u001b[1;33m,\u001b[0m\u001b[0my\u001b[0m\u001b[1;33m)\u001b[0m\u001b[1;33m\u001b[0m\u001b[0m\n\u001b[0m",
      "\u001b[1;32m/home/nhuan/MyWorking/VMResourcePrediction/NeuralFlow.pyc\u001b[0m in \u001b[0;36mscore\u001b[1;34m(self, X, y)\u001b[0m\n\u001b[0;32m     59\u001b[0m \u001b[1;33m\u001b[0m\u001b[0m\n\u001b[0;32m     60\u001b[0m     \u001b[1;32mdef\u001b[0m \u001b[0mscore\u001b[0m\u001b[1;33m(\u001b[0m\u001b[0mself\u001b[0m\u001b[1;33m,\u001b[0m \u001b[0mX\u001b[0m\u001b[1;33m,\u001b[0m \u001b[0my\u001b[0m\u001b[1;33m)\u001b[0m\u001b[1;33m:\u001b[0m\u001b[1;33m\u001b[0m\u001b[0m\n\u001b[1;32m---> 61\u001b[1;33m         \u001b[1;32mreturn\u001b[0m \u001b[0mmean_squared_error\u001b[0m\u001b[1;33m(\u001b[0m\u001b[0my_true\u001b[0m\u001b[1;33m=\u001b[0m\u001b[0my\u001b[0m\u001b[1;33m,\u001b[0m \u001b[0my_pred\u001b[0m\u001b[1;33m=\u001b[0m\u001b[0mself\u001b[0m\u001b[1;33m.\u001b[0m\u001b[0mnetwork\u001b[0m\u001b[1;33m.\u001b[0m\u001b[0mpredict\u001b[0m\u001b[1;33m(\u001b[0m\u001b[0mX\u001b[0m\u001b[1;33m)\u001b[0m\u001b[1;33m)\u001b[0m\u001b[1;33m\u001b[0m\u001b[0m\n\u001b[0m\u001b[0;32m     62\u001b[0m \u001b[1;33m\u001b[0m\u001b[0m\n\u001b[0;32m     63\u001b[0m     \u001b[1;32mdef\u001b[0m \u001b[0mpredict\u001b[0m\u001b[1;33m(\u001b[0m\u001b[0mself\u001b[0m\u001b[1;33m,\u001b[0m \u001b[0mX\u001b[0m\u001b[1;33m)\u001b[0m\u001b[1;33m:\u001b[0m\u001b[1;33m\u001b[0m\u001b[0m\n",
      "\u001b[1;32m/usr/local/lib/python2.7/dist-packages/skflow-0.1.0-py2.7.egg/skflow/estimators/base.py\u001b[0m in \u001b[0;36mpredict\u001b[1;34m(self, X, axis, batch_size)\u001b[0m\n\u001b[0;32m    308\u001b[0m             \u001b[0mvalue\u001b[0m\u001b[1;33m.\u001b[0m\u001b[1;33m\u001b[0m\u001b[0m\n\u001b[0;32m    309\u001b[0m         \"\"\"\n\u001b[1;32m--> 310\u001b[1;33m         \u001b[1;32mreturn\u001b[0m \u001b[0mself\u001b[0m\u001b[1;33m.\u001b[0m\u001b[0m_predict\u001b[0m\u001b[1;33m(\u001b[0m\u001b[0mX\u001b[0m\u001b[1;33m,\u001b[0m \u001b[0maxis\u001b[0m\u001b[1;33m=\u001b[0m\u001b[0maxis\u001b[0m\u001b[1;33m,\u001b[0m \u001b[0mbatch_size\u001b[0m\u001b[1;33m=\u001b[0m\u001b[0mbatch_size\u001b[0m\u001b[1;33m)\u001b[0m\u001b[1;33m\u001b[0m\u001b[0m\n\u001b[0m\u001b[0;32m    311\u001b[0m \u001b[1;33m\u001b[0m\u001b[0m\n\u001b[0;32m    312\u001b[0m     \u001b[1;32mdef\u001b[0m \u001b[0mpredict_proba\u001b[0m\u001b[1;33m(\u001b[0m\u001b[0mself\u001b[0m\u001b[1;33m,\u001b[0m \u001b[0mX\u001b[0m\u001b[1;33m,\u001b[0m \u001b[0mbatch_size\u001b[0m\u001b[1;33m=\u001b[0m\u001b[1;33m-\u001b[0m\u001b[1;36m1\u001b[0m\u001b[1;33m)\u001b[0m\u001b[1;33m:\u001b[0m\u001b[1;33m\u001b[0m\u001b[0m\n",
      "\u001b[1;32m/usr/local/lib/python2.7/dist-packages/skflow-0.1.0-py2.7.egg/skflow/estimators/base.py\u001b[0m in \u001b[0;36m_predict\u001b[1;34m(self, X, axis, batch_size)\u001b[0m\n\u001b[0;32m    281\u001b[0m             predictions_for_batch = self._session.run(\n\u001b[0;32m    282\u001b[0m                 \u001b[0mself\u001b[0m\u001b[1;33m.\u001b[0m\u001b[0m_model_predictions\u001b[0m\u001b[1;33m,\u001b[0m\u001b[1;33m\u001b[0m\u001b[0m\n\u001b[1;32m--> 283\u001b[1;33m                 feed_dict)\n\u001b[0m\u001b[0;32m    284\u001b[0m             \u001b[1;32mif\u001b[0m \u001b[0mself\u001b[0m\u001b[1;33m.\u001b[0m\u001b[0mn_classes\u001b[0m \u001b[1;33m>\u001b[0m \u001b[1;36m1\u001b[0m \u001b[1;32mand\u001b[0m \u001b[0maxis\u001b[0m \u001b[1;33m!=\u001b[0m \u001b[1;33m-\u001b[0m\u001b[1;36m1\u001b[0m\u001b[1;33m:\u001b[0m\u001b[1;33m\u001b[0m\u001b[0m\n\u001b[0;32m    285\u001b[0m                 \u001b[0mpreds\u001b[0m\u001b[1;33m.\u001b[0m\u001b[0mappend\u001b[0m\u001b[1;33m(\u001b[0m\u001b[0mpredictions_for_batch\u001b[0m\u001b[1;33m.\u001b[0m\u001b[0margmax\u001b[0m\u001b[1;33m(\u001b[0m\u001b[0maxis\u001b[0m\u001b[1;33m=\u001b[0m\u001b[0maxis\u001b[0m\u001b[1;33m)\u001b[0m\u001b[1;33m)\u001b[0m\u001b[1;33m\u001b[0m\u001b[0m\n",
      "\u001b[1;32m/usr/local/lib/python2.7/dist-packages/tensorflow/python/client/session.pyc\u001b[0m in \u001b[0;36mrun\u001b[1;34m(self, fetches, feed_dict)\u001b[0m\n\u001b[0;32m    313\u001b[0m         \u001b[1;33m`\u001b[0m\u001b[0mTensor\u001b[0m\u001b[1;33m`\u001b[0m \u001b[0mthat\u001b[0m \u001b[0mdoesn\u001b[0m\u001b[0;31m'\u001b[0m\u001b[0mt\u001b[0m \u001b[0mexist\u001b[0m\u001b[1;33m.\u001b[0m\u001b[1;33m\u001b[0m\u001b[0m\n\u001b[0;32m    314\u001b[0m     \"\"\"\n\u001b[1;32m--> 315\u001b[1;33m     \u001b[1;32mreturn\u001b[0m \u001b[0mself\u001b[0m\u001b[1;33m.\u001b[0m\u001b[0m_run\u001b[0m\u001b[1;33m(\u001b[0m\u001b[0mNone\u001b[0m\u001b[1;33m,\u001b[0m \u001b[0mfetches\u001b[0m\u001b[1;33m,\u001b[0m \u001b[0mfeed_dict\u001b[0m\u001b[1;33m)\u001b[0m\u001b[1;33m\u001b[0m\u001b[0m\n\u001b[0m\u001b[0;32m    316\u001b[0m \u001b[1;33m\u001b[0m\u001b[0m\n\u001b[0;32m    317\u001b[0m   \u001b[1;32mdef\u001b[0m \u001b[0mpartial_run\u001b[0m\u001b[1;33m(\u001b[0m\u001b[0mself\u001b[0m\u001b[1;33m,\u001b[0m \u001b[0mhandle\u001b[0m\u001b[1;33m,\u001b[0m \u001b[0mfetches\u001b[0m\u001b[1;33m,\u001b[0m \u001b[0mfeed_dict\u001b[0m\u001b[1;33m=\u001b[0m\u001b[0mNone\u001b[0m\u001b[1;33m)\u001b[0m\u001b[1;33m:\u001b[0m\u001b[1;33m\u001b[0m\u001b[0m\n",
      "\u001b[1;32m/usr/local/lib/python2.7/dist-packages/tensorflow/python/client/session.pyc\u001b[0m in \u001b[0;36m_run\u001b[1;34m(self, handle, fetches, feed_dict)\u001b[0m\n\u001b[0;32m    504\u001b[0m                   \u001b[1;34m'Cannot feed value of shape %r for Tensor %r, '\u001b[0m\u001b[1;33m\u001b[0m\u001b[0m\n\u001b[0;32m    505\u001b[0m                   \u001b[1;34m'which has shape %r'\u001b[0m\u001b[1;33m\u001b[0m\u001b[0m\n\u001b[1;32m--> 506\u001b[1;33m                   % (np_val.shape, subfeed_t.name, str(subfeed_t.get_shape())))\n\u001b[0m\u001b[0;32m    507\u001b[0m           \u001b[0mfeed_dict_string\u001b[0m\u001b[1;33m[\u001b[0m\u001b[0mcompat\u001b[0m\u001b[1;33m.\u001b[0m\u001b[0mas_bytes\u001b[0m\u001b[1;33m(\u001b[0m\u001b[0msubfeed_t\u001b[0m\u001b[1;33m.\u001b[0m\u001b[0mname\u001b[0m\u001b[1;33m)\u001b[0m\u001b[1;33m]\u001b[0m \u001b[1;33m=\u001b[0m \u001b[0mnp_val\u001b[0m\u001b[1;33m\u001b[0m\u001b[0m\n\u001b[0;32m    508\u001b[0m \u001b[1;33m\u001b[0m\u001b[0m\n",
      "\u001b[1;31mValueError\u001b[0m: Cannot feed value of shape (2225, 5) for Tensor u'input:0', which has shape '(?, 20)'"
     ]
    }
   ],
   "source": [
    "from GraphUtil import *\n",
    "from MetricFeeder import *\n",
    "from ACOEstimator import ACOEstimator\n",
    "from initializer import *\n",
    "from NeuralFlow import NeuralFlowRegressor\n",
    "from OptimizerNNEstimator import OptimizerNNEstimator\n",
    "from sklearn.metrics import mean_squared_error\n",
    "\n",
    "n_windows = 4\n",
    "n_hidden = 15\n",
    "# range_training = (-1,28919)\n",
    "# range_test = (28919,-1)\n",
    "# metric_types = [\"cpu_util\",\"disk_write_rate\"]\n",
    "dataFeeder = MetricFeeder(skip_lists=5)\n",
    "\n",
    "print \"Getting data\"\n",
    "X_train,y_train,X_test,y_test = dataFeeder.split_train_and_test(n_sliding_window=n_windows)\n",
    "neural_shape = [len(dataFeeder.metric_type)*n_windows,n_hidden,len(dataFeeder.metric_type)]\n",
    "estimator = ACOEstimator(Q=0.65,epsilon=0.20000001,number_of_solutions=190)\n",
    "archive_solution = construct_solution(estimator.number_of_solutions,neural_shape,uniform_init=False)\n",
    "fit_param = {'neural_shape':neural_shape,\"archive\":archive_solution}\n",
    "neuralNet = NeuralFlowRegressor()\n",
    "optimizer = OptimizerNNEstimator(estimator,neuralNet)\n",
    "optimizer.fit(X_train,y_train,**fit_param)\n",
    "print optimizer.score(X_test,y_test)\n",
    "y_pred = optimizer.predict(X_test)\n",
    "print optimizer.score(y_pred,y_test)\n",
    "# plot_metric_figure(y_pred,y_test,dataFeeder.metric_type,title=\"ACONN\")\n",
    "# disk_write_pred = dataFeeder.convert(y_pred[:,1],type=metric_types[1])\n",
    "# disk_write_test = dataFeeder.convert(y_test[:,1],type=metric_types[1])\n",
    "# plot_figure(y_pred=disk_write_pred,y_true=disk_write_test,title=\"Disk write Prediction based on ACONN - score = %s\"%np.sqrt(mean_squared_error(disk_write_test,disk_write_pred)))\n",
    "# plot_figure(y_pred=y_pred[:,0],y_true=y_test[:,0],title=\"Disk write Prediction based on ACONN - score = %s\"%np.sqrt(mean_squared_error(y_pred[:,0],y_test[:,0])))\n"
   ]
  },
  {
   "cell_type": "code",
   "execution_count": 8,
   "metadata": {
    "collapsed": false
   },
   "outputs": [
    {
     "name": "stdout",
     "output_type": "stream",
     "text": [
      "0.00633314938593\n"
     ]
    }
   ],
   "source": [
    "print mean_squared_error(y_pred,y_test)\n",
    "# plot_metric_figure(y_pred,y_test,dataFeeder.metric_type,title=\"ACONN\")"
   ]
  }
 ],
 "metadata": {
  "kernelspec": {
   "display_name": "Python 2",
   "language": "python",
   "name": "python2"
  },
  "language_info": {
   "codemirror_mode": {
    "name": "ipython",
    "version": 2
   },
   "file_extension": ".py",
   "mimetype": "text/x-python",
   "name": "python",
   "nbconvert_exporter": "python",
   "pygments_lexer": "ipython2",
   "version": "2.7.10"
  }
 },
 "nbformat": 4,
 "nbformat_minor": 0
}
